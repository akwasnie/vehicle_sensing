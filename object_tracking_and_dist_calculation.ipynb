{
 "cells": [
  {
   "cell_type": "markdown",
   "metadata": {
    "id": "5qIEJJfzbl_9"
   },
   "source": [
    "[![Open In Colab](https://colab.research.google.com/assets/colab-badge.svg)](https://colab.research.google.com/github/akwasnie/vehicle_sensing/blob/detection_and_distance/object_tracking_and_dist_calculation.ipynb)"
   ]
  },
  {
   "cell_type": "code",
   "execution_count": null,
   "metadata": {
    "id": "xX3kUxdra7Ft"
   },
   "outputs": [],
   "source": [
    "# In Jupyter, you would need to install TF 2 via !pip.\n",
    "%tensorflow_version 2.x"
   ]
  },
  {
   "cell_type": "code",
   "execution_count": null,
   "metadata": {
    "id": "DV7RDA4r5gEl"
   },
   "outputs": [],
   "source": [
    "!pip install onnxruntime"
   ]
  },
  {
   "cell_type": "code",
   "execution_count": null,
   "metadata": {
    "id": "nRHtTnEl5Ae2"
   },
   "outputs": [],
   "source": [
    "import json\n",
    "import os\n",
    "import sys\n",
    "from base64 import b64decode, b64encode\n",
    "\n",
    "import cv2\n",
    "import IPython\n",
    "import numpy as np\n",
    "import onnxruntime\n",
    "import torch\n",
    "from google.colab import output\n",
    "from google.colab.output import eval_js\n",
    "from google.colab.patches import cv2_imshow\n",
    "from IPython.display import Image, Javascript, clear_output, display\n",
    "from numpy import asarray\n",
    "from PIL import Image as pimage"
   ]
  },
  {
   "cell_type": "code",
   "execution_count": null,
   "metadata": {
    "id": "6MNuo7X05RCu"
   },
   "outputs": [],
   "source": [
    "!git clone https://github.com/akwasnie/CenterNet.git && cd CenterNet && git checkout 8ef87b433529ac8f8bd4f95707f6bc05052c55e9"
   ]
  },
  {
   "cell_type": "code",
   "execution_count": null,
   "metadata": {
    "id": "U72ukvG61KoD"
   },
   "outputs": [],
   "source": [
    "sys.path.append('CenterNet')\n",
    "from CenterNet import src\n",
    "from src.lib.utils.image import get_affine_transform\n",
    "from src.lib.models.decode import ctdet_decode\n",
    "from src.lib.utils.post_process import ctdet_post_process"
   ]
  },
  {
   "cell_type": "code",
   "execution_count": null,
   "metadata": {
    "id": "v4audkP73Odr"
   },
   "outputs": [],
   "source": [
    "DATA_DIR = 'data/'\n",
    "MODEL_FILE = os.path.join(DATA_DIR, 'ctdet_ebike.onnx')\n",
    "CLASS_FILE = os.path.join(DATA_DIR, 'ebike.json')\n",
    "IMAGES_DIR = os.path.join(DATA_DIR, 'distance_images')\n",
    "os.makedirs(DATA_DIR, exist_ok=True)\n",
    "\n",
    "if not os.path.exists(MODEL_FILE):\n",
    "    !gdown --id 168n5dPHGBoRTpZyZaH6V04AR5w-HYbC_ -O $MODEL_FILE\n",
    "else:\n",
    "    print('Model file ({}) already exists.'.format(MODEL_FILE))\n",
    "\n",
    "if not os.path.exists(CLASS_FILE):\n",
    "    !gdown --id 1qCIeX44a5zBaKpDa6KDz30H9qCULwgP2 -O $CLASS_FILE\n",
    "else:\n",
    "    print('Class file ({}) already exists.'.format(CLASS_FILE))\n",
    "    \n",
    "if not os.path.exists(IMAGES_DIR):\n",
    "    !gdown --id 1G3Hed6PMbNZ8ZNsYg-3nE6XysX-TrMMU -O $IMAGES_DIR\n",
    "else:\n",
    "    print('Images dir ({}) already exists.'.format(IMAGES_DIR))"
   ]
  },
  {
   "cell_type": "code",
   "execution_count": null,
   "metadata": {
    "id": "SiK1Iz6G5yig"
   },
   "outputs": [],
   "source": [
    "IN_SIZE = [512,512]\n",
    "MEAN = [0.408, 0.447, 0.470]\n",
    "STD = [0.289, 0.274, 0.278]\n",
    "MAX_BB_NUM = 10\n",
    "THRESHOLD = 0.25"
   ]
  },
  {
   "cell_type": "code",
   "execution_count": null,
   "metadata": {
    "id": "UFdHZx5h4ARR"
   },
   "outputs": [],
   "source": [
    "def preprocess(image_path):\n",
    "  image = cv2.imread(image_path)\n",
    "  frame = cv2.cvtColor(image, cv2.COLOR_BGR2RGB)\n",
    "  h, w = frame.shape[:2]\n",
    "  c = [np.array([w/2., h/2.], dtype=np.float32)]\n",
    "  s = [max(h, w) * 1.0]\n",
    "  trans_input = get_affine_transform(c[0], s[0], 0, IN_SIZE)\n",
    "  im_data = cv2.warpAffine(\n",
    "      frame, trans_input,\n",
    "      (IN_SIZE[0], IN_SIZE[1]),\n",
    "      flags=cv2.INTER_LINEAR,\n",
    "  )\n",
    "  im_data = ((im_data / 255. - MEAN) / STD).astype(np.float32)\n",
    "  im_data = im_data.transpose(2, 0, 1).reshape(1, 3, IN_SIZE[0], IN_SIZE[1])\n",
    "  return frame, im_data, c, s\n",
    "\n",
    "def import_data(model_path, class_mapping_path):\n",
    "  ort_session = onnxruntime.InferenceSession(model_path)\n",
    "\n",
    "  with open(class_mapping_path, 'r') as fp:\n",
    "    category_index = json.load(fp)\n",
    "  return ort_session, category_index\n",
    "\n",
    "def centernet2cocodict(out, c, m, category_index):\n",
    "    hm = torch.from_numpy(out[0])\n",
    "    wh = torch.from_numpy(out[1])\n",
    "    reg = torch.from_numpy(out[2])\n",
    "    hm = hm.sigmoid_()\n",
    "    dets = ctdet_decode(hm, wh, reg=reg, cat_spec_wh=False, K=MAX_BB_NUM)\n",
    "    dets = dets.detach().cpu().numpy()\n",
    "    dets = ctdet_post_process(dets.copy(), c, m, 128, 128, 80)[0]\n",
    "\n",
    "    results = {}  \n",
    "    for j in range(1, 5 + 1):\n",
    "        results[j] = np.array(dets[j], dtype=np.float32).reshape(-1, 5)\n",
    "    \n",
    "    scores = np.hstack([results[j][:, 4] for j in range(1, 5 + 1)])\n",
    "\n",
    "    out_dict = {\n",
    "        'num_detections': MAX_BB_NUM,\n",
    "        'detection_boxes': [],\n",
    "        'detection_scores': [],\n",
    "        'detection_classes': [],\n",
    "        }\n",
    "\n",
    "    cats = list(category_index.values())\n",
    "    cats.sort(key=lambda x: x['id'])\n",
    "\n",
    "    for j in range(1, 5 + 1):\n",
    "        for bbox in results[j]:\n",
    "            if bbox[4] > THRESHOLD:\n",
    "                out_dict['detection_boxes'].append(bbox[:4])\n",
    "                out_dict['detection_scores'].append(bbox[4])\n",
    "                out_dict['detection_classes'].append(cats[j-1]['id'])\n",
    "\n",
    "    out_dict['detection_boxes'] = np.asarray(out_dict['detection_boxes'])\n",
    "    out_dict['detection_scores'] = np.asarray(out_dict['detection_scores'])\n",
    "    out_dict['detection_classes'] = np.asarray(out_dict['detection_classes'])\n",
    "\n",
    "    return out_dict\n",
    "\n",
    "def run_inference(ort_session, category_index, image_data, c, s):\n",
    "  output = ort_session.run(None, {ort_session.get_inputs()[0].name: image_data})\n",
    "  output_dict = centernet2cocodict(output, c, s, category_index)\n",
    "  return output_dict\n",
    "\n",
    "ort_session, category_index = import_data(MODEL_FILE, CLASS_FILE)"
   ]
  },
  {
   "cell_type": "code",
   "execution_count": null,
   "metadata": {
    "id": "cIUg1hfC957b"
   },
   "outputs": [],
   "source": [
    "FILENAME = \"distance_images/5_f.JPG\"\n",
    "frame, image_data, c, s = preprocess(FILENAME)\n",
    "ort_session, category_index = import_data(MODEL_FILE, CLASS_FILE)\n",
    "output_dict = run_inference(ort_session, category_index, image_data, c, s)\n",
    "print(output_dict)\n",
    "for i in range(len(output_dict['detection_boxes'])):\n",
    "  bbox = output_dict['detection_boxes'][i]\n",
    "  class_name = category_index[str(output_dict['detection_classes'][i])]['name']\n",
    "  cv2.rectangle(frame,\n",
    "                (int(bbox[0]), int(bbox[1])),\n",
    "                (int(bbox[2]), int(bbox[3])),\n",
    "                (0,255,0),\n",
    "                2)\n",
    "  cv2.putText(frame,\n",
    "              class_name,\n",
    "              (int(bbox[0]), int(bbox[1]-10)),\n",
    "              0,\n",
    "              0.45,\n",
    "              (255,0,0),\n",
    "              0)\n",
    "result = np.asarray(frame)\n",
    "result = cv2.cvtColor(frame, cv2.COLOR_RGB2BGR)\n",
    "cv2_imshow(result)"
   ]
  },
  {
   "cell_type": "code",
   "execution_count": null,
   "metadata": {
    "id": "EYlTtRCNn0e2"
   },
   "outputs": [],
   "source": []
  }
 ],
 "metadata": {
  "colab": {
   "collapsed_sections": [],
   "name": "Realtime_object_tracking.ipynb",
   "provenance": []
  },
  "kernelspec": {
   "display_name": "Python 3 (ipykernel)",
   "language": "python",
   "name": "python3"
  },
  "language_info": {
   "codemirror_mode": {
    "name": "ipython",
    "version": 3
   },
   "file_extension": ".py",
   "mimetype": "text/x-python",
   "name": "python",
   "nbconvert_exporter": "python",
   "pygments_lexer": "ipython3",
   "version": "3.8.15"
  }
 },
 "nbformat": 4,
 "nbformat_minor": 1
}
